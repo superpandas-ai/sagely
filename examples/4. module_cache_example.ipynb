{
 "cells": [
  {
   "cell_type": "markdown",
   "metadata": {
    "vscode": {
     "languageId": "raw"
    }
   },
   "source": [
    "# Module Info Caching Example\n",
    "\n",
    "This notebook demonstrates the module info caching functionality in sagely. We'll see how module analysis results are cached to improve performance for subsequent queries about the same module.\n"
   ]
  },
  {
   "cell_type": "code",
   "execution_count": 1,
   "metadata": {},
   "outputs": [
    {
     "name": "stdout",
     "output_type": "stream",
     "text": [
      "ℹ️ Initializing SageAgent with model: gpt-4\n",
      "ℹ️ Initializing LangGraph agent with model: gpt-4\n",
      "ℹ️ Building LangGraph workflow...\n",
      "✅ LangGraph workflow built successfully\n",
      "✅ LangGraph agent initialized successfully\n",
      "✅ SageAgent initialized successfully\n",
      "ℹ️ Initializing SageAgent with model: gpt-4\n",
      "ℹ️ Initializing LangGraph agent with model: gpt-4\n",
      "ℹ️ Building LangGraph workflow...\n",
      "✅ LangGraph workflow built successfully\n",
      "✅ LangGraph agent initialized successfully\n",
      "✅ SageAgent initialized successfully\n",
      "ℹ️ Initializing LangGraph agent with model: gpt-4\n",
      "ℹ️ Building LangGraph workflow...\n",
      "✅ LangGraph workflow built successfully\n",
      "✅ LangGraph agent initialized successfully\n"
     ]
    }
   ],
   "source": [
    "import time\n",
    "from sagely.langgraph_agent import create_agent, analyze_module\n",
    "from sagely.cache import ModuleInfoCache\n",
    "\n",
    "# Create an agent instance\n",
    "agent = create_agent()\n"
   ]
  },
  {
   "cell_type": "markdown",
   "metadata": {
    "vscode": {
     "languageId": "raw"
    }
   },
   "source": [
    "## 1. First Analysis\n",
    "\n",
    "Let's analyze a module for the first time and measure how long it takes.\n"
   ]
  },
  {
   "cell_type": "code",
   "execution_count": 2,
   "metadata": {},
   "outputs": [
    {
     "name": "stdout",
     "output_type": "stream",
     "text": [
      "First analysis of 'json' module:\n",
      "----------------------------------------\n",
      "ℹ️ Analyzing module 'json'...\n",
      "📦 Using cached module info for 'json'\n",
      "Analysis completed in 0.002 seconds\n",
      "Result length: 3803 characters\n",
      "First 200 chars: Module: json\n",
      "Documentation: JSON (JavaScript Object Notation) <https://json.org> is a subset of\n",
      "JavaScript syntax (ECMA-262 3rd edition) used as a lightweight data\n",
      "interchange format.\n",
      "\n",
      ":mod:`json` exp...\n"
     ]
    }
   ],
   "source": [
    "# Test module to analyze\n",
    "test_module = \"json\"\n",
    "\n",
    "print(f\"First analysis of '{test_module}' module:\")\n",
    "print(\"-\" * 40)\n",
    "\n",
    "# Time the first analysis (should be slower)\n",
    "start_time = time.time()\n",
    "result1 = analyze_module.invoke({\"module_name\": test_module})\n",
    "first_analysis_time = time.time() - start_time\n",
    "\n",
    "print(f\"Analysis completed in {first_analysis_time:.3f} seconds\")\n",
    "print(f\"Result length: {len(result1)} characters\")\n",
    "print(f\"First 200 chars: {result1[:200]}...\")\n"
   ]
  },
  {
   "cell_type": "markdown",
   "metadata": {
    "vscode": {
     "languageId": "raw"
    }
   },
   "source": [
    "## 2. Second Analysis (Using Cache)\n",
    "\n",
    "Now let's analyze the same module again. This time it should be much faster because it will use the cached results.\n"
   ]
  },
  {
   "cell_type": "code",
   "execution_count": 3,
   "metadata": {},
   "outputs": [
    {
     "name": "stdout",
     "output_type": "stream",
     "text": [
      "ℹ️ Analyzing module 'json'...\n",
      "📦 Using cached module info for 'json'\n",
      "Analysis completed in 0.001 seconds\n",
      "Speed improvement: 1.7x faster\n",
      "Results identical: True\n"
     ]
    }
   ],
   "source": [
    "# Time the second analysis (should be much faster)\n",
    "start_time = time.time()\n",
    "result2 = analyze_module.invoke({\"module_name\": test_module})\n",
    "second_analysis_time = time.time() - start_time\n",
    "\n",
    "print(f\"Analysis completed in {second_analysis_time:.3f} seconds\")\n",
    "print(f\"Speed improvement: {first_analysis_time/second_analysis_time:.1f}x faster\")\n",
    "print(f\"Results identical: {result1 == result2}\")\n"
   ]
  },
  {
   "cell_type": "markdown",
   "metadata": {
    "vscode": {
     "languageId": "raw"
    }
   },
   "source": [
    "## 3. Cache Status Check\n",
    "\n",
    "Let's verify if our module is indeed cached.\n"
   ]
  },
  {
   "cell_type": "code",
   "execution_count": 4,
   "metadata": {},
   "outputs": [
    {
     "name": "stdout",
     "output_type": "stream",
     "text": [
      "Is 'json' cached? True\n"
     ]
    }
   ],
   "source": [
    "is_cached = agent.is_module_cached(test_module)\n",
    "print(f\"Is '{test_module}' cached? {is_cached}\")\n"
   ]
  },
  {
   "cell_type": "markdown",
   "metadata": {
    "vscode": {
     "languageId": "raw"
    }
   },
   "source": [
    "## 4. Clearing Specific Module Cache\n",
    "\n",
    "Now let's clear the cache for our test module and verify it's no longer cached.\n"
   ]
  },
  {
   "cell_type": "code",
   "execution_count": 5,
   "metadata": {},
   "outputs": [
    {
     "name": "stdout",
     "output_type": "stream",
     "text": [
      "📦 Cleared module cache for 'json'\n",
      "Is 'json' cached after clearing? False\n"
     ]
    }
   ],
   "source": [
    "agent.clear_module_cache(test_module)\n",
    "is_cached_after_clear = agent.is_module_cached(test_module)\n",
    "print(f\"Is '{test_module}' cached after clearing? {is_cached_after_clear}\")\n"
   ]
  },
  {
   "cell_type": "markdown",
   "metadata": {
    "vscode": {
     "languageId": "raw"
    }
   },
   "source": [
    "## 5. Testing with Another Module\n",
    "\n",
    "Let's test the caching behavior with a different module.\n"
   ]
  },
  {
   "cell_type": "code",
   "execution_count": 6,
   "metadata": {},
   "outputs": [
    {
     "name": "stdout",
     "output_type": "stream",
     "text": [
      "ℹ️ Analyzing module 'os'...\n",
      "✅ Successfully analyzed module 'os'\n",
      "ℹ️ Analyzing module 'os'...\n",
      "📦 Using cached module info for 'os'\n",
      "'os' first analysis: 0.002s\n",
      "'os' second analysis: 0.001s\n",
      "Speed improvement: 2.6x faster\n"
     ]
    }
   ],
   "source": [
    "another_module = \"os\"\n",
    "\n",
    "# First analysis\n",
    "start_time = time.time()\n",
    "result3 = analyze_module.invoke({\"module_name\": another_module})\n",
    "first_time = time.time() - start_time\n",
    "\n",
    "# Second analysis (cached)\n",
    "start_time = time.time()\n",
    "result4 = analyze_module.invoke({\"module_name\": another_module})\n",
    "second_time = time.time() - start_time\n",
    "\n",
    "print(f\"'{another_module}' first analysis: {first_time:.3f}s\")\n",
    "print(f\"'{another_module}' second analysis: {second_time:.3f}s\")\n",
    "print(f\"Speed improvement: {first_time/second_time:.1f}x faster\")\n"
   ]
  },
  {
   "cell_type": "markdown",
   "metadata": {
    "vscode": {
     "languageId": "raw"
    }
   },
   "source": [
    "## 6. Clearing All Module Cache\n",
    "\n",
    "Finally, let's clear the entire module cache and verify that all modules are uncached.\n"
   ]
  },
  {
   "cell_type": "code",
   "execution_count": 7,
   "metadata": {},
   "outputs": [
    {
     "name": "stdout",
     "output_type": "stream",
     "text": [
      "📦 Cleared all module cache\n",
      "All module cache cleared\n",
      "Is 'json' cached? False\n",
      "Is 'os' cached? False\n"
     ]
    }
   ],
   "source": [
    "agent.clear_module_cache()  # Clear all\n",
    "print(\"All module cache cleared\")\n",
    "\n",
    "# Verify cache is cleared\n",
    "is_json_cached = agent.is_module_cached(test_module)\n",
    "is_os_cached = agent.is_module_cached(another_module)\n",
    "print(f\"Is '{test_module}' cached? {is_json_cached}\")\n",
    "print(f\"Is '{another_module}' cached? {is_os_cached}\")\n"
   ]
  },
  {
   "cell_type": "markdown",
   "metadata": {
    "vscode": {
     "languageId": "raw"
    }
   },
   "source": [
    "## Cache Persistence Demo\n",
    "\n",
    "Now let's demonstrate that the cache persists between different sessions.\n"
   ]
  },
  {
   "cell_type": "code",
   "execution_count": 8,
   "metadata": {},
   "outputs": [
    {
     "name": "stdout",
     "output_type": "stream",
     "text": [
      "1. Analyzing 'math' module...\n",
      "ℹ️ Analyzing module 'math'...\n",
      "✅ Successfully analyzed module 'math'\n",
      "Analysis completed, result length: 114 characters\n",
      "\n",
      "2. Creating new cache instance...\n",
      "3. Checking if 'math' is cached in new instance...\n",
      "✅ Cache persists! Result length: 114 characters\n",
      "Results identical: True\n",
      "\n",
      "✅ Demo completed!\n",
      "The module info caching system is working correctly.\n",
      "This significantly improves performance for repeated queries about the same modules.\n"
     ]
    }
   ],
   "source": [
    "# Create a cache instance\n",
    "cache = ModuleInfoCache()\n",
    "\n",
    "test_module = \"math\"\n",
    "\n",
    "print(f\"1. Analyzing '{test_module}' module...\")\n",
    "result = analyze_module.invoke({\"module_name\": test_module})\n",
    "print(f\"Analysis completed, result length: {len(result)} characters\")\n",
    "\n",
    "print(f\"\\n2. Creating new cache instance...\")\n",
    "new_cache = ModuleInfoCache()\n",
    "\n",
    "print(f\"3. Checking if '{test_module}' is cached in new instance...\")\n",
    "cached_result = new_cache.get(test_module)\n",
    "\n",
    "if cached_result:\n",
    "    print(f\"✅ Cache persists! Result length: {len(cached_result)} characters\")\n",
    "    print(f\"Results identical: {result == cached_result}\")\n",
    "else:\n",
    "    print(\"❌ Cache does not persist (this shouldn't happen)\")\n",
    "\n",
    "print(\"\\n✅ Demo completed!\")\n",
    "print(\"The module info caching system is working correctly.\")\n",
    "print(\"This significantly improves performance for repeated queries about the same modules.\")\n"
   ]
  },
  {
   "cell_type": "code",
   "execution_count": null,
   "metadata": {},
   "outputs": [],
   "source": []
  }
 ],
 "metadata": {
  "kernelspec": {
   "display_name": "Python 3 (ipykernel)",
   "language": "python",
   "name": "python3"
  },
  "language_info": {
   "codemirror_mode": {
    "name": "ipython",
    "version": 3
   },
   "file_extension": ".py",
   "mimetype": "text/x-python",
   "name": "python",
   "nbconvert_exporter": "python",
   "pygments_lexer": "ipython3",
   "version": "3.12.0"
  }
 },
 "nbformat": 4,
 "nbformat_minor": 4
}
