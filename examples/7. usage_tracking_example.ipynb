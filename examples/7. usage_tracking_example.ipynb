{
    "cells": [
     {
      "cell_type": "markdown",
      "metadata": {},
      "source": [
       "# Token Usage Tracking Example\n",
       "\n",
       "This example demonstrates how sagely tracks token usage throughout your session."
      ]
     },
     {
      "cell_type": "code",
      "execution_count": null,
      "metadata": {},
      "outputs": [],
      "source": [
       "import sagely\n",
       "from sagely import get_session_total, get_session_summary, clear_usage_history\n",
       "\n",
       "# The usage_data attribute provides easy access to session usage information\n",
       "print(\"Available usage data attributes:\")\n",
       "print(f\"sagely.usage_data.input_tokens: {sagely.usage_data.input_tokens}\")\n",
       "print(f\"sagely.usage_data.output_tokens: {sagely.usage_data.output_tokens}\")\n",
       "print(f\"sagely.usage_data.total_tokens: {sagely.usage_data.total_tokens}\")\n",
       "print(f\"sagely.usage_data.request_count: {sagely.usage_data.request_count}\")"
      ]
     },
     {
      "cell_type": "markdown",
      "metadata": {},
      "source": [
       "## Clear any existing usage history\n",
       "\n",
       "Let's start with a clean slate:"
      ]
     },
     {
      "cell_type": "code",
      "execution_count": null,
      "metadata": {},
      "outputs": [],
      "source": [
       "clear_usage_history()\n",
       "print(\"Usage history cleared\")\n",
       "print(f\"Current usage: {sagely.usage_data}\")"
      ]
     },
     {
      "cell_type": "markdown",
      "metadata": {},
      "source": [
       "## Check initial usage\n",
       "\n",
       "Before making any requests, let's see the current usage:"
      ]
     },
     {
      "cell_type": "code",
      "execution_count": null,
      "metadata": {},
      "outputs": [],
      "source": [
       "print(\"Initial session usage:\")\n",
       "print(sagely.usage_data.summary)\n",
       "\n",
       "# You can also access individual properties\n",
       "print(f\"\\nIndividual properties:\")\n",
       "print(f\"Input tokens: {sagely.usage_data.input_tokens:,}\")\n",
       "print(f\"Output tokens: {sagely.usage_data.output_tokens:,}\")\n",
       "print(f\"Total tokens: {sagely.usage_data.total_tokens:,}\")\n",
       "print(f\"Request count: {sagely.usage_data.request_count}\")"
      ]
     },
     {
      "cell_type": "markdown",
      "metadata": {},
      "source": [
       "## Make some requests\n",
       "\n",
       "Now let's make some requests to see token usage in action. With status updates enabled, you'll see token usage information displayed after each request:"
      ]
     },
     {
      "cell_type": "code",
      "execution_count": null,
      "metadata": {},
      "outputs": [],
      "source": [
       "# Ask a question about a module\n",
       "import sys\n",
       "sys.sage.ask(\"What is the sys module used for?\")"
      ]
     },
     {
      "cell_type": "code",
      "execution_count": null,
      "metadata": {},
      "outputs": [],
      "source": [
       "# Check usage after the request\n",
       "print(\"Usage after first request:\")\n",
       "print(f\"Total tokens: {sagely.usage_data.total_tokens:,}\")\n",
       "print(f\"Request count: {sagely.usage_data.request_count}\")"
      ]
     },
     {
      "cell_type": "code",
      "execution_count": null,
      "metadata": {},
      "outputs": [],
      "source": [
       "# Ask another question\n",
       "import os\n",
       "os.sage.ask(\"How do I get the current working directory?\")"
      ]
     },
     {
      "cell_type": "code",
      "execution_count": null,
      "metadata": {},
      "outputs": [],
      "source": [
       "# Check updated usage\n",
       "print(\"Usage after second request:\")\n",
       "print(f\"Total tokens: {sagely.usage_data.total_tokens:,}\")\n",
       "print(f\"Request count: {sagely.usage_data.request_count}\")"
      ]
     },
     {
      "cell_type": "markdown",
      "metadata": {},
      "source": [
       "## Check cumulative usage\n",
       "\n",
       "After making requests, let's see the total usage for the session:"
      ]
     },
     {
      "cell_type": "code",
      "execution_count": null,
      "metadata": {},
      "outputs": [],
      "source": [
       "print(\"Current session usage:\")\n",
       "print(sagely.usage_data.summary)\n",
       "\n",
       "# Or use the string representation\n",
       "print(f\"\\nString representation:\")\n",
       "print(str(sagely.usage_data))\n",
       "\n",
       "# Or use the detailed representation\n",
       "print(f\"\\nDetailed representation:\")\n",
       "print(repr(sagely.usage_data))"
      ]
     },
     {
      "cell_type": "markdown",
      "metadata": {},
      "source": [
       "## Get detailed usage information\n",
       "\n",
       "You can also get more detailed information about the usage:"
      ]
     },
     {
      "cell_type": "code",
      "execution_count": null,
      "metadata": {},
      "outputs": [],
      "source": [
       "# Access the total usage object\n",
       "total = sagely.usage_data.total\n",
       "print(f\"Total usage object: {total}\")\n",
       "print(f\"Input tokens: {total.input_tokens:,}\")\n",
       "print(f\"Output tokens: {total.output_tokens:,}\")\n",
       "print(f\"Total tokens: {total.total_tokens:,}\")\n",
       "print(f\"Number of requests: {sagely.usage_data.request_count}\")"
      ]
     },
     {
      "cell_type": "markdown",
      "metadata": {},
      "source": [
       "## Recent usage details\n",
       "\n",
       "You can also see details about recent requests:"
      ]
     },
     {
      "cell_type": "code",
      "execution_count": null,
      "metadata": {},
      "outputs": [],
      "source": [
       "# Access the tracker for detailed information\n",
       "tracker = sagely.usage_data.tracker\n",
       "recent_usage = tracker.get_recent_usage(3)\n",
       "print(\"Recent usage details:\")\n",
       "for i, usage in enumerate(recent_usage, 1):\n",
       "    print(f\"\\nRequest {i}:\")\n",
       "    print(f\"  Model: {usage.model_name}\")\n",
       "    print(f\"  Type: {usage.request_type}\")\n",
       "    print(f\"  Input tokens: {usage.input_tokens}\")\n",
       "    print(f\"  Output tokens: {usage.output_tokens}\")\n",
       "    print(f\"  Total tokens: {usage.total_tokens}\")\n",
       "    print(f\"  Timestamp: {usage.timestamp}\")"
      ]
     },
     {
      "cell_type": "markdown",
      "metadata": {},
      "source": [
       "## Quick usage check\n",
       "\n",
       "You can quickly check usage at any time:"
      ]
     },
     {
      "cell_type": "code",
      "execution_count": null,
      "metadata": {},
      "outputs": [],
      "source": [
       "# Quick check of current usage\n",
       "print(f\"Current session: {sagely.usage_data.total_tokens:,} tokens used across {sagely.usage_data.request_count} requests\")\n",
       "\n",
       "# Check if we've used any tokens\n",
       "if sagely.usage_data.total_tokens > 0:\n",
       "    print(f\"✅ Session has used {sagely.usage_data.total_tokens:,} tokens\")\n",
       "else:\n",
       "    print(\"ℹ️ No tokens used yet in this session\")"
      ]
     },
       {
   "cell_type": "markdown",
   "metadata": {},
   "source": [
    "## Model-specific usage tracking\n",
    "\n",
    "Sagely tracks usage separately for each LLM model. This allows you to see how different models perform and compare their usage patterns:"
   ]
  },
  {
   "cell_type": "code",
   "execution_count": null,
   "metadata": {},
   "outputs": [],
   "source": [
    "# Check which models have been used\n",
    "print(\"Models used in this session:\")\n",
    "for model_name, usage in sagely.usage_data.models.items():\n",
    "    print(f\"  {model_name}: {usage.total_tokens:,} tokens\")\n",
    "\n",
    "# Get usage for a specific model\n",
    "if 'gpt-4' in sagely.usage_data.models:\n",
    "    gpt4_usage = sagely.usage_data.get_model_usage('gpt-4')\n",
    "    print(f\"\\ngpt-4 usage:\")\n",
    "    print(f\"  Input tokens: {gpt4_usage.input_tokens:,}\")\n",
    "    print(f\"  Output tokens: {gpt4_usage.output_tokens:,}\")\n",
    "    print(f\"  Total tokens: {gpt4_usage.total_tokens:,}\")"
   ]
  },
  {
   "cell_type": "markdown",
   "metadata": {},
   "source": [
    "## Recent usage by model\n",
    "\n",
    "You can also see recent usage for specific models:"
   ]
  },
  {
   "cell_type": "code",
   "execution_count": null,
   "metadata": {},
   "outputs": [],
   "source": [
    "# Get recent usage for a specific model\n",
    "for model_name in sagely.usage_data.models.keys():\n",
    "    recent = sagely.usage_data.get_model_recent_usage(model_name, 3)\n",
    "    if recent:\n",
    "        print(f\"\\nRecent usage for {model_name}:\")\n",
    "        for i, usage in enumerate(recent, 1):\n",
    "            print(f\"  Request {i}: {usage.total_tokens} tokens ({usage.request_type})\")"
   ]
  },
  {
   "cell_type": "markdown",
   "metadata": {},
   "source": [
    "## Usage tracking features\n",
    "\n",
    "The token usage tracking system provides:\n",
    "\n",
    "1. **Easy access via `sagely.usage_data`**: Simple attribute access to all usage information\n",
    "2. **Automatic tracking**: All LLM requests are automatically tracked\n",
    "3. **Session persistence**: Usage is maintained throughout your Python/Jupyter session\n",
    "4. **Status updates**: Token usage is displayed in status updates when enabled\n",
    "5. **Detailed breakdown**: Track input, output, and total tokens\n",
    "6. **Request categorization**: Different request types are tracked separately\n",
    "7. **Model identification**: Track which model was used for each request\n",
    "8. **Model-specific tracking**: Separate usage statistics for each LLM model\n",
    "9. **Model comparison**: Compare usage patterns across different models\n",
    "10. **Multiple access methods**: Use properties, functions, or the usage_data attribute\n",
    "\n",
    "This helps you monitor your API usage and costs throughout your development session, with detailed insights into how different models perform."
   ]
  }
    ],
    "metadata": {
     "kernelspec": {
      "display_name": "Python 3",
      "language": "python",
      "name": "python3"
     },
     "language_info": {
      "codemirror_mode": {
       "name": "ipython",
       "version": 3
      },
      "file_extension": ".py",
      "mimetype": "text/x-python",
      "name": "python",
      "nbconvert_exporter": "python",
      "pygments_lexer": "ipython3",
      "version": "3.8.5"
     }
    },
    "nbformat": 4,
    "nbformat_minor": 4
   } 